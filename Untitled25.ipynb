{
  "nbformat": 4,
  "nbformat_minor": 0,
  "metadata": {
    "colab": {
      "name": "Untitled25.ipynb",
      "provenance": [],
      "collapsed_sections": [],
      "authorship_tag": "ABX9TyNiP49+UeBKKMnOnBxNlFd4",
      "include_colab_link": true
    },
    "kernelspec": {
      "name": "python3",
      "display_name": "Python 3"
    },
    "language_info": {
      "name": "python"
    }
  },
  "cells": [
    {
      "cell_type": "markdown",
      "metadata": {
        "id": "view-in-github",
        "colab_type": "text"
      },
      "source": [
        "<a href=\"https://colab.research.google.com/github/priya606/TASK-6/blob/main/Untitled25.ipynb\" target=\"_parent\"><img src=\"https://colab.research.google.com/assets/colab-badge.svg\" alt=\"Open In Colab\"/></a>"
      ]
    },
    {
      "cell_type": "code",
      "execution_count": null,
      "metadata": {
        "id": "Kybc-ZrTJFbm"
      },
      "outputs": [],
      "source": [
        "#Name:Saipriya\n",
        "#Referal id:DIRSS2132"
      ]
    },
    {
      "cell_type": "code",
      "source": [
        "1. What is the difference between pushing and pulling ?\n",
        "These are the two important operations performed on git\n",
        "->>Push command refers to the pushing of the local repository content to a remote repository\n",
        "After a local repository has been modified a push is executed to share the modifications with remote team members.\n",
        "\n",
        "-->Pull command is used to fetch and merge changes from the remote repository to the local repository. \n",
        "The pull command is a combination of two commands, git fetch command followed by git merge command."
      ],
      "metadata": {
        "id": "EmKKfmC7J4OZ"
      },
      "execution_count": null,
      "outputs": []
    },
    {
      "cell_type": "code",
      "source": [
        "2. How to initialise a new git repository[ Describe all the steps ] ?\n",
        "It contains some steps to be followed\n",
        "-->go to github\n",
        "-->create new repository in github"
      ],
      "metadata": {
        "id": "KgIpV4q-Lu4l"
      },
      "execution_count": null,
      "outputs": []
    },
    {
      "cell_type": "markdown",
      "source": [
        "![picture](https://drive.google.com/uc?export=view&id=1PeCbFh_rLd9CUE9A9gLhDKkNcDHgBytI)"
      ],
      "metadata": {
        "id": "8PQsdFypcVvl"
      }
    },
    {
      "cell_type": "code",
      "source": [
        "after perform operations \n",
        "-->mkdir new1(creating new folder)\n",
        "-->cd new1\n",
        "-->git init\n",
        "-->git add\n",
        "-->git commit -m\n",
        "after performing these operations it provides interaction between gitbash and github\n",
        "\n"
      ],
      "metadata": {
        "id": "piJ_4iKRZPgG"
      },
      "execution_count": null,
      "outputs": []
    },
    {
      "cell_type": "code",
      "source": [
        "3. What is the use of git clone and how to use it?\n",
        "Git clone is primarily used to point to an existing repository and make a clone or copy of that repo at in a new directory, at another\n",
        "location.\n",
        "The original repository can be located on the local filesystem or on remote machine accessible supported protocols. The git clone command\n",
        "copies an existing Git repository.\n",
        "Step to clone a repository are as follows:\n",
        "(1) Open GitHub and navigate to the main page of the repository.\n",
        "(2) Under the repository name, click on Clone or download.\n",
        "(3) Select the Clone with HTTPs section and copy the clone URL for the repository. For the empty repository, you can copy the repository \n",
        "page URL from your browser and skip to next step."
      ],
      "metadata": {
        "id": "oNrxvqlRbK_h"
      },
      "execution_count": null,
      "outputs": []
    },
    {
      "cell_type": "code",
      "source": [
        "4.How to ignore some files/folders from pushing?\n",
        "gitignore to select what you do not want to push it up to git server. Just put .gitignore to your root folder and add./assets/* to\n",
        "this file.\n"
      ],
      "metadata": {
        "id": "favgP4zycvqd"
      },
      "execution_count": null,
      "outputs": []
    },
    {
      "cell_type": "code",
      "source": [
        "5. What do you mean by Branch?\n",
        "A branch represents an independent line of development. The git branch command lets you create, list, rename and delete branches. It \n",
        "does not let you switch between branches or put a forked history back together again. For this reason, git branch is tightly integrated\n",
        "with the git checkout and git merge commands."
      ],
      "metadata": {
        "id": "36W-zgq0eI9r"
      },
      "execution_count": null,
      "outputs": []
    },
    {
      "cell_type": "code",
      "source": [
        "● Which branch should be used to keep deployment-ready code?\n",
        "The developers in the team constantly commit their work into a single, central branch which is always in a deployment ready state.\n",
        "In other words, the main branch for the project should only contain tested and quality work and should never be broken"
      ],
      "metadata": {
        "id": "e7uhOToqeSNI"
      },
      "execution_count": null,
      "outputs": []
    },
    {
      "cell_type": "code",
      "source": [
        "● Create a new branch called development from the main branch.\n",
        "The git branch command can be used to create a new branch. When you want to start a new feature, you create a new branch off main using\n",
        "git branch new_branch. Once created you can then use git checkout new_branch to switch to that branch."
      ],
      "metadata": {
        "id": "zHtbQn7secJa"
      },
      "execution_count": null,
      "outputs": []
    },
    {
      "cell_type": "code",
      "source": [
        "● Checkout one more branch deployment from the previous branch.\n",
        "git branch branch-name\n",
        "git checkout branch-name\n"
      ],
      "metadata": {
        "id": "pUxPvKJZejNv"
      },
      "execution_count": null,
      "outputs": []
    },
    {
      "cell_type": "code",
      "source": [
        "● Push different data into both branches.\n",
        "You can apply already existing commit to another branch using CHERRY-PICK command and then push both branches using git push origin\n",
        "brancha and branchb"
      ],
      "metadata": {
        "id": "Vi4TBowJexck"
      },
      "execution_count": null,
      "outputs": []
    },
    {
      "cell_type": "code",
      "source": [
        "● Merge data from both branches to the main branch\n",
        "-->git branch <branch name>\n",
        "git branch\n",
        "--> git checkout -b <branch name>\n",
        "git branch\n",
        "--> git log\n",
        "git branch <branch name> <identifier>\n",
        "git checkout -b feature4 develop\n",
        "\n",
        "--> git branch\n",
        "* master\n",
        "--> git branch new-branch\n",
        "-->git branch\n",
        "* master\n",
        "new-branch\n",
        "--> git checkout new-branch\n",
        "switched to branch 'new-branch'\n",
        "--> git branch\n",
        "master\n",
        "* new-branch\n"
      ],
      "metadata": {
        "id": "QiKf2q97fBpA"
      },
      "execution_count": null,
      "outputs": []
    },
    {
      "cell_type": "code",
      "source": [
        "6.How to resolve conflict with merge?\n",
        "--> The easiest way to resolve a conflicted file is to open it and make any necessary changes\n",
        "--> After editing the file we can use the git add a command to stage the new merged content\n",
        "--> The final step is to create a new commit with the help of the git commit command\n",
        "--> Git will create a new merge commit to finalize the merge\n"
      ],
      "metadata": {
        "id": "RhA--lSCfaNd"
      },
      "execution_count": null,
      "outputs": []
    },
    {
      "cell_type": "code",
      "source": [
        "7. What is rebase and how is it different from merge in git ?\n",
        "REBASE: Rebasing a branch updates one branch with another by applying the commits of one branch on top of the commits of another branch.\n",
        "Example: If working on a feature branch that is out of date with a dev branch, rebasing the feature branch onto dev will allow all the\n",
        "new commits from dev to be included in feature.\n",
        "-->Git Merge: For developers using version control systems, merging is a prevalent method. Merging takes the contents of a source branch\n",
        "and combines them with a target branch, to be more precise. Only the target branch is updated in this process. The history of the\n",
        "source branch remains similar.\n",
        "Combine multiple branch histories together.\n",
        "A---B---C feature\n",
        " /\n",
        "D---E---F---G master\n",
        "\n",
        "if we are merging feature and master branch, then it would be\n",
        "\n",
        "A---B---C feature\n",
        " /               \\\n",
        "D---E---F---G---H master\n",
        "\n",
        "Commands for merging feature and master branch\n",
        "\n",
        "git checkout feature git merge master\n",
        "\n",
        "Git Rebase: Another way to integrate modifications from one branch to another is by Rebase. Rebase compresses all the modifications\n",
        "into a single patch. The patch is then inserted into the target branch.\n",
        "Reapply commits on top of the base branch\n",
        "\n",
        " A---B---C feature\n",
        " /\n",
        "D---E---F---G master\n",
        "\n",
        "if we are rebasing the feature branch onto the master branch, then it would be\n",
        "\n",
        "A'--B'--C' feature\n",
        "\t /\n",
        "\tD---E---F---G master"
      ],
      "metadata": {
        "id": "aBDYqbtHf7Lp"
      },
      "execution_count": null,
      "outputs": []
    },
    {
      "cell_type": "markdown",
      "source": [
        "![picture](https://drive.google.com/file/d/18HVLxqPObImNjiB-s3VLwdSGyMozLA0X/view?usp=sharing)"
      ],
      "metadata": {
        "id": "3D-kyp4FkGJi"
      }
    },
    {
      "cell_type": "markdown",
      "source": [
        "![picture](https://drive.google.com/uc?export=view&id=18HVLxqPObImNjiB-s3VLwdSGyMozLA0X)"
      ],
      "metadata": {
        "id": "UzvhSIo3ka4a"
      }
    }
  ]
}